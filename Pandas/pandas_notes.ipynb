{
 "cells": [
  {
   "cell_type": "markdown",
   "metadata": {},
   "source": [
    "series methods\n",
    "s.size()            return the number of elements\n",
    "s.T                 return the transpose of current series\n",
    "s.memory_usage()    return the memory usage\n",
    "s.hasnans()         Return True if there are any NaNs\n",
    "s.dtype             Return the dtype object of the underlying data\n",
    "s.astype            Cast a pandas object to a specified dtype\n",
    "s.copy              Make a copy of this object’s indices and data.\n",
    "\n"
   ]
  },
  {
   "cell_type": "markdown",
   "metadata": {},
   "source": [
    "https://pandas.pydata.org/docs/reference/api/pandas.Series.size.html\n",
    "s.agg()\n",
    "s.aggregate()       Returns a summary of a Series based on the aggregate functions such as min max,   median, mean, etc\n",
    "s.apply()           Invokes a python function on values of Series\n",
    "s.map()             Maps values of a Series according to input correspondence\n",
    "s.transform()       Transforms the values of a Series based on a function\n",
    "s.rolling()         Provides rolling window calculations\n",
    "s.astype(float)     Converts the datatype of a Series to float\n",
    "s.tolist()          Converts a Series to a list\n",
    "s.replace(1,'one')  Replaces all values equal to 1 with ‘one’\n",
    "s.where(s > 10)     Returns a Series and replaces False values with NaN\n",
    "s.mask(s > 10)      Returns a Series and replaces True values with NaN"
   ]
  },
  {
   "cell_type": "markdown",
   "metadata": {},
   "source": [
    "df.dtypes, s.dtype          Show the data types of columns\n",
    "df/s.shape                  Number of rows and columns\n",
    "df/s.index                  Show the row index\n",
    "df/s.columns                Show the column index\n",
    "df/s.values                 Show the values\n",
    "df/s.info()                 Show a concise summary\n",
    "df/s.count()                Show numbers of non-NaN values\n",
    "df/s.describe()             Summary statistics for numerical columns\n",
    "df/s.head(n)                Show first n rows. Default is 5\n",
    "df/s.tail(n)                Show last n rows. Default it 5"
   ]
  },
  {
   "cell_type": "markdown",
   "metadata": {},
   "source": [
    "df.mean()       Returns the mean of all columns\n",
    "df.corr()       Returns the correlation between columns in a DataFrame\n",
    "df.max()        Returns the highest value in each column\n",
    "df.min()        Returns the lowest value in each column\n",
    "df.median()     Returns the median of each column\n",
    "df.std()        Returns the standard deviation of each column"
   ]
  },
  {
   "cell_type": "markdown",
   "metadata": {},
   "source": [
    "df/s.value_counts(dropna=False)     View unique values and counts\n",
    "df/s.unique()                       View the unique values\n",
    "df/s.nunique()                      View the count of unique values"
   ]
  },
  {
   "cell_type": "markdown",
   "metadata": {},
   "source": [
    "df.columns = ['a','b','c']      Renames columns\n",
    "df.rename()                     Renames row or columns index by a function\n",
    "df.drop()                       Deletes row(s) or column(s)\n",
    "df.drop_duplicates()            Drops all duplicates\n",
    "df.set_index()                  Changes the index\n",
    "df.reset_index()                Resets the index"
   ]
  },
  {
   "cell_type": "markdown",
   "metadata": {},
   "source": [
    "df['col'] or df.col             Selects columns by column labels\n",
    "df.loc[['row1', 'row2']]        Selects row(s) by row label(s)\n",
    "df.iloc[0,:]                    Selects row(s) by row position(s)\n",
    "df.iloc[0,0]                    Selects value(s) by row position(s) and column  position(s)"
   ]
  },
  {
   "cell_type": "markdown",
   "metadata": {},
   "source": [
    "df.loc[df[col] > 0.5]                           Returns rows where col value is greater than 0.5\n",
    "df.loc[~(df[col] > 0.5)]                        Returns rows where col value is NOT greater than 0.5\n",
    "df.loc[df[col1] > 0.5 & df[col2]%2 == 0]        Returns rows where col1 value is greater than 0.5 and    col2 value is even\n",
    "df.filter(regex = 'e$')                         Returns rows whose labels end with letter e\n",
    "df.query('col1 > col2')                         Returns rows where the condition is True\n",
    "df.loc[df.col1 > df.col2]                       Equivalent to the previous one"
   ]
  },
  {
   "cell_type": "markdown",
   "metadata": {},
   "source": [
    "pd.to_datetime()        Converts values to a DateTime object.\n",
    "pd.Timestamp()          Returns a Timestamp object.\n",
    "pd.date_range()         Returns a fixed frequency DatetimeIndex object.\n",
    "pd.Period()             Returns a Period object"
   ]
  },
  {
   "cell_type": "markdown",
   "metadata": {},
   "source": [
    "df.isnull()                             Checks for missing values and returns Boolean results\n",
    "df.notnull()                            The opposite of isnull\n",
    "df.dropna()                             Drops all rows that contain missing values\n",
    "df.fillna(x)                            Replaces missing values with x\n",
    "df.interpolate(method = 'linear')       Replaces the missing values with linear method"
   ]
  },
  {
   "cell_type": "markdown",
   "metadata": {},
   "source": [
    "df.sort_values(col)             Sorts values by column col in ascending order\n",
    "df.groupby(col)                 Returns a groupby object for values from column col\n",
    "df.resample()                   Converts frequency of time series data\n",
    "df.pivot_table(index=col1,values=[col2,col3],aggfunc=mean)\n",
    "                                    Creates a pivot table that groups by col1 and calculates the mean     of col2 and col3\n",
    "df.stack()                      Pivots a level of column labels\n",
    "df.unstack()                    Pivots a level of index labels\n",
    "df.apply()                      Applies a function along one of the axis of the df\n",
    "pd.melt()                       Gathers columns into rows\n",
    "pd.crosstab()                   Builds a cross-tabulation table of two (or more) factors"
   ]
  },
  {
   "cell_type": "markdown",
   "metadata": {},
   "source": [
    "df1.append(df2)                         Adds the rows indf1to the end ofdf2(columns should be identical)\n",
    "pd.concat([df1,df2],axis=1)             Adds the columns indf1to the end ofdf2(rows should be identical)\n",
    "df1.join(df2,on=col1,how='inner')       SQL-style joins the columns indf1with the columns ondf2where the rows forcolhave identical values.'how'can be one of'left','right','outer','inner'\n",
    "pd.merge(df1,df2,how='inner', on=col1)  Similar to inner join of SQL"
   ]
  },
  {
   "cell_type": "markdown",
   "metadata": {},
   "source": [
    "pd.read_csv()           Reads from a CSV file\n",
    "pd.read_table()         Reads from a delimited text file (like TSV)\n",
    "pd.read_excel()         Reads from an Excel file\n",
    "pd.read_json()          Reads from a JSON formatted string, URL or file\n",
    "pd.read_html()          Parses a URL, string or file and extracts tables to a list of DataFrames\n",
    "df.to_csv()             Writes a DataFrame to a CSV file\n",
    "df.to_excel()           Writes a DataFrame to an Excel file\n",
    "df.to_json()            Writes a DataFrame to a file in JSON format"
   ]
  },
  {
   "cell_type": "code",
   "execution_count": null,
   "metadata": {},
   "outputs": [],
   "source": []
  }
 ],
 "metadata": {
  "language_info": {
   "name": "python"
  }
 },
 "nbformat": 4,
 "nbformat_minor": 2
}
