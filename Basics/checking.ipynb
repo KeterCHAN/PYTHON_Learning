{
 "cells": [
  {
   "cell_type": "markdown",
   "metadata": {},
   "source": [
    "list.pop(index)\n",
    "list.remove(item)\n",
    "\n",
    "\n",
    "list.sort()\n",
    "sorted(list)\n",
    "\n",
    "\n",
    "list.split()"
   ]
  },
  {
   "cell_type": "markdown",
   "metadata": {},
   "source": [
    "tuple.count()\n",
    "tuple.index()"
   ]
  },
  {
   "cell_type": "markdown",
   "metadata": {},
   "source": [
    "separator.join"
   ]
  },
  {
   "cell_type": "markdown",
   "metadata": {},
   "source": [
    "set.add()\n",
    "set.discard()\n",
    "set.pop()\n",
    "\n",
    "set.intersection()\n",
    "set.difference()\n",
    "set.isdisjoint()\n",
    "\n",
    "\n",
    "set comparison: \n",
    "set_1 > set_2 = True if set_1 contains all elements in set_2 and there is more element in set_1\n",
    "\n",
    "union operator: set1|set2\n",
    "\n"
   ]
  },
  {
   "cell_type": "markdown",
   "metadata": {},
   "source": [
    "merge two dictionaries\n",
    "{**dict1,**dict2}   or    dict1|dict2\n",
    "\n",
    "dict.get(key, default value)\n",
    "\n",
    "dict.keys()\n",
    "dict.values()\n",
    "dict.items()\n"
   ]
  },
  {
   "cell_type": "code",
   "execution_count": null,
   "metadata": {
    "vscode": {
     "languageId": "plaintext"
    }
   },
   "outputs": [],
   "source": [
    "handle pointer\n",
    "\n",
    "handle.seek(0)\n",
    "\n",
    "handle.read(int)            continue to read next int characters\n",
    "handle.read(-int)           continue to read till the end of the string \n",
    "\n",
    "handle.readline()           read the first/next line\n",
    "handle.readlines()          read the rest of the lines as a list of string\n",
    "\n"
   ]
  }
 ],
 "metadata": {
  "language_info": {
   "name": "python"
  }
 },
 "nbformat": 4,
 "nbformat_minor": 2
}
