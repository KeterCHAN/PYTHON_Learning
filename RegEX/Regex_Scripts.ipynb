{
 "cells": [
  {
   "cell_type": "markdown",
   "id": "6d8b818d",
   "metadata": {},
   "source": [
    "# Searching for a target"
   ]
  },
  {
   "cell_type": "markdown",
   "id": "93c253a2",
   "metadata": {},
   "source": [
    "findall()    Returns a list containing all matches\n",
    "\n",
    "search()     Returns a match object if there is a match anywhere in the\n",
    "             string, None on failure\n",
    "split()      Returns a list where the string has been split at each match\n",
    "\n",
    "sub()        Replaces one or many matches with a string\n",
    "\n",
    "compile()    Returns a RegEx pattern"
   ]
  },
  {
   "cell_type": "code",
   "execution_count": 1,
   "id": "46ec71da",
   "metadata": {},
   "outputs": [],
   "source": [
    "import re"
   ]
  },
  {
   "cell_type": "code",
   "execution_count": 2,
   "id": "5a4603ad",
   "metadata": {
    "scrolled": true
   },
   "outputs": [
    {
     "name": "stdout",
     "output_type": "stream",
     "text": [
      "<re.Match object; span=(0, 3), match='HKU'>\n",
      "<class 're.Match'>\n",
      "None\n"
     ]
    }
   ],
   "source": [
    "#search returns a match object if there is a match anywhere in the string, or None on failure.\n",
    "text = 'HKU Business School'\n",
    "findHKU = re.search('HKU', text)\n",
    "findMSBA = re.search('MSBA', text)\n",
    "print(findHKU)\n",
    "print(type(findHKU))\n",
    "print(findMSBA)"
   ]
  },
  {
   "cell_type": "markdown",
   "id": "86a472b8",
   "metadata": {},
   "source": [
    "span()      Returns a tuple containing the start and end positions of the match\n",
    "start()     Returns the start position of the match\n",
    "end()       Returns the end position of the match\n",
    "string      Returns the string passed into the method"
   ]
  },
  {
   "cell_type": "code",
   "execution_count": 3,
   "id": "be9836a8",
   "metadata": {},
   "outputs": [
    {
     "name": "stdout",
     "output_type": "stream",
     "text": [
      "<class 're.Match'>\n",
      "(0, 3)\n",
      "0\n",
      "3\n",
      "HKU Business School\n"
     ]
    }
   ],
   "source": [
    "print(type(findHKU))\n",
    "print(findHKU.span())\n",
    "print(findHKU.start())\n",
    "print(findHKU.end())\n",
    "print(findHKU.string)"
   ]
  },
  {
   "cell_type": "code",
   "execution_count": 4,
   "id": "b13ef9d8",
   "metadata": {},
   "outputs": [
    {
     "name": "stdout",
     "output_type": "stream",
     "text": [
      "Yes, HKU\n",
      "No, MSBA\n"
     ]
    }
   ],
   "source": [
    "if findHKU: \n",
    "    print(\"Yes, HKU\") \n",
    "else:\n",
    "    print(\"No, HKU\")\n",
    "if findMSBA:\n",
    "    print(\"Yes, MSBA\") \n",
    "else:\n",
    "    print(\"No, MSBA\")\n"
   ]
  },
  {
   "cell_type": "markdown",
   "id": "b4f2d0ec",
   "metadata": {},
   "source": [
    "#Compiling a RegEx Object"
   ]
  },
  {
   "cell_type": "code",
   "execution_count": 5,
   "id": "9f81900d",
   "metadata": {},
   "outputs": [
    {
     "name": "stdout",
     "output_type": "stream",
     "text": [
      "yes\n"
     ]
    }
   ],
   "source": [
    "text = 'HKU Business School'\n",
    "pattern = re.compile('HKU')\n",
    "if pattern.search(text): print('yes')"
   ]
  },
  {
   "cell_type": "code",
   "execution_count": 6,
   "id": "4024de87",
   "metadata": {},
   "outputs": [
    {
     "name": "stdout",
     "output_type": "stream",
     "text": [
      "yes\n"
     ]
    }
   ],
   "source": [
    "text = 'HKU Business School'\n",
    "if re.search('HKU', text): print('yes')"
   ]
  },
  {
   "cell_type": "code",
   "execution_count": 7,
   "id": "b5f6e03e",
   "metadata": {},
   "outputs": [
    {
     "name": "stdout",
     "output_type": "stream",
     "text": [
      "['s', 's', 's']\n"
     ]
    }
   ],
   "source": [
    "text = 'HKU Business School'\n",
    "result = re.findall('s', text)\n",
    "print(result)"
   ]
  },
  {
   "cell_type": "markdown",
   "id": "55b83188",
   "metadata": {},
   "source": [
    "# Using metacharacters and sets"
   ]
  },
  {
   "cell_type": "markdown",
   "id": "8079c582",
   "metadata": {},
   "source": [
    "[]  A set of characters\n",
    "\\   Escape character, used to formulate special characters\n",
    ".   Any character, except newline character\n",
    "^   Starts with\n",
    "$   Ends with\n",
    "*   Zero or more occurrences\n",
    "+   One or more occurrences\n",
    "?   Turns greedy matching to non-greedy matching\n",
    "{}  Exactly the specified number of occurrences\n",
    "|   Either or\n",
    "()  Capture and group"
   ]
  },
  {
   "cell_type": "code",
   "execution_count": 8,
   "id": "ce180340",
   "metadata": {},
   "outputs": [
    {
     "data": {
      "text/plain": [
       "['S', 'c', 'h', 'o', 'o', 'l']"
      ]
     },
     "execution_count": 8,
     "metadata": {},
     "output_type": "execute_result"
    }
   ],
   "source": [
    "re.findall('.', text[-6:])\n",
    "# match with any one character, except for a newline"
   ]
  },
  {
   "cell_type": "code",
   "execution_count": 9,
   "id": "c2036e9c",
   "metadata": {},
   "outputs": [
    {
     "data": {
      "text/plain": [
       "['School']"
      ]
     },
     "execution_count": 9,
     "metadata": {},
     "output_type": "execute_result"
    }
   ],
   "source": [
    "re.findall('.+', text[-6:])\n",
    "# match as many as possible, except for a newline\n",
    "# this is greedy matching"
   ]
  },
  {
   "cell_type": "code",
   "execution_count": 10,
   "id": "87a3d2a7",
   "metadata": {},
   "outputs": [
    {
     "data": {
      "text/plain": [
       "['S', 'c', 'h', 'o', 'o', 'l']"
      ]
     },
     "execution_count": 10,
     "metadata": {},
     "output_type": "execute_result"
    }
   ],
   "source": [
    "re.findall('.+?', text[-6:])\n",
    "# ? turns off greedy matching"
   ]
  },
  {
   "cell_type": "code",
   "execution_count": 11,
   "id": "f727419f",
   "metadata": {},
   "outputs": [
    {
     "name": "stdout",
     "output_type": "stream",
     "text": [
      "['chao.ding@hku.hk']\n",
      "['chao.ding@hk']\n"
     ]
    }
   ],
   "source": [
    "text = 'From <chao.ding@hku.hk> Assignment 1'\n",
    "x = re.findall('c.+k', text)\n",
    "print(x)\n",
    "\n",
    "y = re.findall('c.+?k', text)\n",
    "print(y)\n"
   ]
  },
  {
   "cell_type": "code",
   "execution_count": 12,
   "id": "9e3d3b0a",
   "metadata": {},
   "outputs": [
    {
     "data": {
      "text/plain": [
       "'From chao.ding@hku.hk end\\nFrom: eric.wong@hku.hk over\\nfrom michael.chau4@hku.hk done\\nexam@friday'"
      ]
     },
     "execution_count": 12,
     "metadata": {},
     "output_type": "execute_result"
    }
   ],
   "source": [
    "text2 = '''From chao.ding@hku.hk end\n",
    "From: eric.wong@hku.hk over\n",
    "from michael.chau4@hku.hk done\n",
    "exam@friday'''\n",
    "\n",
    "text2    # notice the \\n in the text"
   ]
  },
  {
   "cell_type": "code",
   "execution_count": 13,
   "id": "e379d59e",
   "metadata": {},
   "outputs": [
    {
     "data": {
      "text/plain": [
       "['F', 'F']"
      ]
     },
     "execution_count": 13,
     "metadata": {},
     "output_type": "execute_result"
    }
   ],
   "source": [
    "re.findall('F', text2)\n",
    "# extract all the \"F\"s from the text"
   ]
  },
  {
   "cell_type": "code",
   "execution_count": 14,
   "id": "77e2037b",
   "metadata": {},
   "outputs": [
    {
     "data": {
      "text/plain": [
       "['F']"
      ]
     },
     "execution_count": 14,
     "metadata": {},
     "output_type": "execute_result"
    }
   ],
   "source": [
    "re.findall('^F', text2)\n",
    "# extract only the one at the begining of the text"
   ]
  },
  {
   "cell_type": "code",
   "execution_count": 15,
   "id": "67f5a788",
   "metadata": {},
   "outputs": [
    {
     "data": {
      "text/plain": [
       "['e', 'e', 'e', 'e', 'e', 'e']"
      ]
     },
     "execution_count": 15,
     "metadata": {},
     "output_type": "execute_result"
    }
   ],
   "source": [
    "re.findall('e', text2)\n",
    "# extract all the \"e\"s from the text"
   ]
  },
  {
   "cell_type": "code",
   "execution_count": 16,
   "id": "f1593830",
   "metadata": {},
   "outputs": [
    {
     "data": {
      "text/plain": [
       "[]"
      ]
     },
     "execution_count": 16,
     "metadata": {},
     "output_type": "execute_result"
    }
   ],
   "source": [
    "re.findall('e$', text2)\n",
    "# no e at the end of the text"
   ]
  },
  {
   "cell_type": "code",
   "execution_count": 17,
   "id": "301c9c2f",
   "metadata": {},
   "outputs": [
    {
     "data": {
      "text/plain": [
       "['From', 'From', 'from']"
      ]
     },
     "execution_count": 17,
     "metadata": {},
     "output_type": "execute_result"
    }
   ],
   "source": [
    "re.findall('From|from', text2)\n",
    "# extract either From or from"
   ]
  },
  {
   "cell_type": "code",
   "execution_count": 18,
   "id": "dd75ec9b",
   "metadata": {},
   "outputs": [
    {
     "data": {
      "text/plain": [
       "['From', 'From', 'from']"
      ]
     },
     "execution_count": 18,
     "metadata": {},
     "output_type": "execute_result"
    }
   ],
   "source": [
    "re.findall('[Ff]rom', text2)"
   ]
  },
  {
   "cell_type": "markdown",
   "id": "c88a7fdc",
   "metadata": {},
   "source": [
    "#Extracting a Portion of the Match"
   ]
  },
  {
   "cell_type": "code",
   "execution_count": 19,
   "id": "36d3c161",
   "metadata": {},
   "outputs": [
    {
     "name": "stdout",
     "output_type": "stream",
     "text": [
      "['<chao.ding@hku.hk>']\n",
      "['chao.ding@hku.hk']\n"
     ]
    }
   ],
   "source": [
    "text = 'From <chao.ding@hku.hk> Assignment 1'\n",
    "x = re.findall('<.+@.+>', text)\n",
    "print(x)\n",
    "\n",
    "y = re.findall('<(.+@.+)>', text)\n",
    "print(y)\n"
   ]
  },
  {
   "cell_type": "code",
   "execution_count": 20,
   "id": "86568671",
   "metadata": {},
   "outputs": [
    {
     "data": {
      "text/plain": [
       "['chao.ding@hku.hk', 'eric.wong@hku.hk', 'exam@friday']"
      ]
     },
     "execution_count": 20,
     "metadata": {},
     "output_type": "execute_result"
    }
   ],
   "source": [
    "pattern = re.compile(\"[a-z.]+@[a-z.]+\")\n",
    "# create a pattern to extract email address\n",
    "# a dot in a set matches with a real dot\n",
    "\n",
    "pattern.findall(text2)\n",
    "# but it does not match with michael.chau4@hku.hk\n",
    "# and it does match with exam@friday, which is not desired"
   ]
  },
  {
   "cell_type": "code",
   "execution_count": 21,
   "id": "f5735359",
   "metadata": {},
   "outputs": [
    {
     "data": {
      "text/plain": [
       "['chao.ding@hku.hk', 'eric.wong@hku.hk', 'michael.chau4@hku.hk']"
      ]
     },
     "execution_count": 21,
     "metadata": {},
     "output_type": "execute_result"
    }
   ],
   "source": [
    "pattern = re.compile(\"[a-z0-9.]+@[a-z]+[.][a-z]+\")\n",
    "# add another range 0-9 in the template\n",
    "\n",
    "pattern.findall(text2)\n",
    "# now you have all three email addresses"
   ]
  },
  {
   "cell_type": "code",
   "execution_count": 23,
   "id": "31ee608a",
   "metadata": {},
   "outputs": [
    {
     "data": {
      "text/plain": [
       "['chao.ding', 'eric.wong', 'michael.chau4']"
      ]
     },
     "execution_count": 23,
     "metadata": {},
     "output_type": "execute_result"
    }
   ],
   "source": [
    "# extract the part before @, use a pair of parenthese\n",
    "\n",
    "pattern = re.compile(\"([a-z0-9.]+)@[a-z]+[.][a-z]+\")\n",
    "pattern.findall(text2)"
   ]
  },
  {
   "cell_type": "code",
   "execution_count": 24,
   "id": "aa38b6e7",
   "metadata": {},
   "outputs": [
    {
     "data": {
      "text/plain": [
       "['2', '1', '9', '4', '2']"
      ]
     },
     "execution_count": 24,
     "metadata": {},
     "output_type": "execute_result"
    }
   ],
   "source": [
    "text3 = 'My 2 favorite numbers are 19 and 42'\n",
    "re.findall('[0-9]', text3)"
   ]
  },
  {
   "cell_type": "code",
   "execution_count": 25,
   "id": "15554db1",
   "metadata": {},
   "outputs": [
    {
     "data": {
      "text/plain": [
       "['2', '19', '42']"
      ]
     },
     "execution_count": 25,
     "metadata": {},
     "output_type": "execute_result"
    }
   ],
   "source": [
    "re.findall('[0-9]+', text3)\n",
    "# this is greedy matching"
   ]
  },
  {
   "cell_type": "code",
   "execution_count": 26,
   "id": "c064a028",
   "metadata": {},
   "outputs": [
    {
     "data": {
      "text/plain": [
       "['2', '1', '9', '4', '2']"
      ]
     },
     "execution_count": 26,
     "metadata": {},
     "output_type": "execute_result"
    }
   ],
   "source": [
    "re.findall('[0-9]+?', text3)\n",
    "# use ? to turn greedy matching to non-greedy"
   ]
  },
  {
   "cell_type": "code",
   "execution_count": 27,
   "id": "363743e4",
   "metadata": {},
   "outputs": [
    {
     "data": {
      "text/plain": [
       "['19', '42']"
      ]
     },
     "execution_count": 27,
     "metadata": {},
     "output_type": "execute_result"
    }
   ],
   "source": [
    "re.findall('[0-9]{2}', text3)\n",
    "# use {} to specify the exact number of occurences"
   ]
  },
  {
   "cell_type": "code",
   "execution_count": 28,
   "id": "48376108",
   "metadata": {},
   "outputs": [
    {
     "data": {
      "text/plain": [
       "['favor', 'ite', 'numbe', 'are', 'and']"
      ]
     },
     "execution_count": 28,
     "metadata": {},
     "output_type": "execute_result"
    }
   ],
   "source": [
    "re.findall('[^0-9 ]{3,5}', text3)\n",
    "# matches with substrings with a length from 3 to 5, but without any digits or spaces\n",
    "# note there is no space after ,\n",
    "# {} is also greedy matchin"
   ]
  },
  {
   "cell_type": "code",
   "execution_count": 29,
   "id": "92387f30",
   "metadata": {},
   "outputs": [
    {
     "data": {
      "text/plain": [
       "['favorite', 'numbers', 'are', 'and']"
      ]
     },
     "execution_count": 29,
     "metadata": {},
     "output_type": "execute_result"
    }
   ],
   "source": [
    "re.findall('[^0-9 ]{3,}', text3)\n",
    "# as many as possible, but at least three"
   ]
  },
  {
   "cell_type": "markdown",
   "id": "316234b4",
   "metadata": {},
   "source": [
    "#In sets [], punctuation has no special meaning , thus ,  [+] means a + character"
   ]
  },
  {
   "cell_type": "markdown",
   "id": "43fc6ac1",
   "metadata": {},
   "source": [
    "\\A  Returns a match if the specified characters are at the beginning of the string\n",
    "\\d  Returns a match where the string contains digits (numbers from 0-9)\n",
    "\\D  Returns a match where the string DOES NOT contain digits\n",
    "\\s  Returns a match where the string contains a white space character\n",
    "\\S  Returns a match where the string DOES NOT contain a white space character\n",
    "\\w  Returns a match where the string contains any word characters (characters from a to Z, digits from 0-9, and the underscore _ character)\n",
    "\\W  Returns a match where the string DOES NOT contain any word characters\n",
    "\\Z  Returns a match if the specified characters are at the end of the string\n",
    "\\t  Returns a match with a tab\n",
    "\\.  Returns a match with a dot\n",
    "\\\\  Returns a match with a backslash\n",
    "\\[  Returns a match with a left square bracket"
   ]
  },
  {
   "cell_type": "markdown",
   "id": "a51e9c6c",
   "metadata": {},
   "source": [
    "# Using escape characters"
   ]
  },
  {
   "cell_type": "code",
   "execution_count": 30,
   "id": "4b331020",
   "metadata": {},
   "outputs": [
    {
     "name": "stdout",
     "output_type": "stream",
     "text": [
      "['chao.ding@hku.hk']\n"
     ]
    }
   ],
   "source": [
    "text4 = 'From <chao.ding@hku.hk> Assignment 1'\n",
    "pattern = re.compile(r'<(\\S+@\\S+)>')  # r is for raw string, use raw string when there are escape characters\n",
    "matches = pattern.findall(text4)\n",
    "print(matches)"
   ]
  },
  {
   "cell_type": "code",
   "execution_count": 31,
   "id": "32b312a4",
   "metadata": {
    "scrolled": true
   },
   "outputs": [
    {
     "data": {
      "text/plain": [
       "'hku.hk'"
      ]
     },
     "execution_count": 31,
     "metadata": {},
     "output_type": "execute_result"
    }
   ],
   "source": [
    "re.findall(r'@(\\S+)>', text4)[0]    \n",
    "# using list index to get a specific string in the list"
   ]
  },
  {
   "cell_type": "code",
   "execution_count": 32,
   "id": "2eafc662",
   "metadata": {
    "scrolled": true
   },
   "outputs": [
    {
     "data": {
      "text/plain": [
       "['From', 'chao', 'ding', 'hku', 'hk', 'Assignment', '1']"
      ]
     },
     "execution_count": 32,
     "metadata": {},
     "output_type": "execute_result"
    }
   ],
   "source": [
    "re.findall(r'\\w+', text4)\n",
    "# matches with string containing any word characters\n",
    "# characters from a to Z, digits from 0-9, and the underscore _ character"
   ]
  },
  {
   "cell_type": "code",
   "execution_count": 33,
   "id": "e0e5cd48",
   "metadata": {},
   "outputs": [
    {
     "data": {
      "text/plain": [
       "['chao.ding', 'hku.hk']"
      ]
     },
     "execution_count": 33,
     "metadata": {},
     "output_type": "execute_result"
    }
   ],
   "source": [
    "re.findall(r'\\w+\\.\\w+', text4)\n",
    "# \\. matches with a real dot as well\n",
    "# similar to [.]"
   ]
  },
  {
   "cell_type": "code",
   "execution_count": 34,
   "id": "44af9fed",
   "metadata": {},
   "outputs": [
    {
     "data": {
      "text/plain": [
       "['10', '88', '20']"
      ]
     },
     "execution_count": 34,
     "metadata": {},
     "output_type": "execute_result"
    }
   ],
   "source": [
    "text5 = 'We just received $10.88 for 20 cookies.'\n",
    "re.findall(r'\\d+', text5)"
   ]
  },
  {
   "cell_type": "code",
   "execution_count": 35,
   "id": "e784258e",
   "metadata": {},
   "outputs": [
    {
     "data": {
      "text/plain": [
       "'$10'"
      ]
     },
     "execution_count": 35,
     "metadata": {},
     "output_type": "execute_result"
    }
   ],
   "source": [
    "re.findall(r'\\$\\d+', text5)[0]"
   ]
  },
  {
   "cell_type": "markdown",
   "id": "f50906c2",
   "metadata": {},
   "source": [
    "# Splitting strings & Substituting substrings"
   ]
  },
  {
   "cell_type": "code",
   "execution_count": 36,
   "id": "28adeada",
   "metadata": {},
   "outputs": [
    {
     "data": {
      "text/plain": [
       "['The', 'University', 'of Hong Kong (HKU)']"
      ]
     },
     "execution_count": 36,
     "metadata": {},
     "output_type": "execute_result"
    }
   ],
   "source": [
    "text7 = 'The University of Hong Kong (HKU)'\n",
    "re.split(r'\\s', text7, 2)\n",
    "# third argument: makes 2 splits"
   ]
  },
  {
   "cell_type": "code",
   "execution_count": 37,
   "id": "61035dad",
   "metadata": {},
   "outputs": [
    {
     "data": {
      "text/plain": [
       "['The', 'University', 'of', 'Hong', 'Kong', 'HKU', '']"
      ]
     },
     "execution_count": 37,
     "metadata": {},
     "output_type": "execute_result"
    }
   ],
   "source": [
    "re.split(r'\\W+', text7)"
   ]
  },
  {
   "cell_type": "code",
   "execution_count": 38,
   "id": "545067e2",
   "metadata": {},
   "outputs": [
    {
     "data": {
      "text/plain": [
       "'The University of Hong Kong --HKU--'"
      ]
     },
     "execution_count": 38,
     "metadata": {},
     "output_type": "execute_result"
    }
   ],
   "source": [
    "re.sub(r'\\(|\\)', '--', text7)\n",
    "# replace parenthese with --"
   ]
  },
  {
   "cell_type": "code",
   "execution_count": 39,
   "id": "9f06bedd",
   "metadata": {},
   "outputs": [
    {
     "data": {
      "text/plain": [
       "'The University of Hong Kong'"
      ]
     },
     "execution_count": 39,
     "metadata": {},
     "output_type": "execute_result"
    }
   ],
   "source": [
    "re.sub(r'\\s\\(.+\\)', '', text7)\n",
    "# remove the content in the parenthese"
   ]
  },
  {
   "cell_type": "code",
   "execution_count": 40,
   "id": "81e0fbdc",
   "metadata": {},
   "outputs": [
    {
     "data": {
      "text/plain": [
       "'The University of Hong Kong'"
      ]
     },
     "execution_count": 40,
     "metadata": {},
     "output_type": "execute_result"
    }
   ],
   "source": [
    "re.sub(r'\\s[(].+[)]', '', text7)"
   ]
  },
  {
   "cell_type": "code",
   "execution_count": 41,
   "id": "8196e650",
   "metadata": {},
   "outputs": [
    {
     "data": {
      "text/plain": [
       "'The University of Hong Kong'"
      ]
     },
     "execution_count": 41,
     "metadata": {},
     "output_type": "execute_result"
    }
   ],
   "source": [
    "# another way to remove the content in the parenthese: using string slicing\n",
    "text7[0 : text7.find('(')-1]"
   ]
  },
  {
   "cell_type": "markdown",
   "id": "6418c19d",
   "metadata": {},
   "source": [
    "# Special uses"
   ]
  },
  {
   "cell_type": "markdown",
   "id": "059488c3",
   "metadata": {},
   "source": [
    "## `\\b`: word boundary"
   ]
  },
  {
   "cell_type": "code",
   "execution_count": 42,
   "id": "8ef6b858",
   "metadata": {},
   "outputs": [
    {
     "data": {
      "text/plain": [
       "['is1', 'is2', 'is3']"
      ]
     },
     "execution_count": 42,
     "metadata": {},
     "output_type": "execute_result"
    }
   ],
   "source": [
    "# the use of \\b needs to be combined with a raw string\n",
    "\n",
    "text6 = \"Lis1bon is2 an oasis3\"\n",
    "re.findall(r'is[0-9]', text6)"
   ]
  },
  {
   "cell_type": "code",
   "execution_count": 43,
   "id": "07726695",
   "metadata": {},
   "outputs": [
    {
     "data": {
      "text/plain": [
       "['is2']"
      ]
     },
     "execution_count": 43,
     "metadata": {},
     "output_type": "execute_result"
    }
   ],
   "source": [
    "re.findall(r'\\bis[0-9]', text6)"
   ]
  },
  {
   "cell_type": "code",
   "execution_count": 44,
   "id": "eb1cd62b",
   "metadata": {},
   "outputs": [
    {
     "data": {
      "text/plain": [
       "['is2', 'is3']"
      ]
     },
     "execution_count": 44,
     "metadata": {},
     "output_type": "execute_result"
    }
   ],
   "source": [
    "re.findall(r'is[0-9]\\b', text6)"
   ]
  },
  {
   "cell_type": "code",
   "execution_count": 45,
   "id": "f55890b1",
   "metadata": {},
   "outputs": [
    {
     "data": {
      "text/plain": [
       "['is2']"
      ]
     },
     "execution_count": 45,
     "metadata": {},
     "output_type": "execute_result"
    }
   ],
   "source": [
    "re.findall(r'\\bis[0-9]\\b', text6)"
   ]
  },
  {
   "cell_type": "markdown",
   "id": "ae5534dd",
   "metadata": {},
   "source": [
    "## Capture and group, non-capture and group"
   ]
  },
  {
   "cell_type": "code",
   "execution_count": 46,
   "id": "45ecc12f",
   "metadata": {},
   "outputs": [
    {
     "data": {
      "text/plain": [
       "['3', '141', '20']"
      ]
     },
     "execution_count": 46,
     "metadata": {},
     "output_type": "execute_result"
    }
   ],
   "source": [
    "re.findall(r'\\d+(?=\\S)', \n",
    "           'Here are 2 numbers: 3.141, 20.5')"
   ]
  },
  {
   "cell_type": "code",
   "execution_count": 47,
   "id": "a6c9c6bc",
   "metadata": {},
   "outputs": [
    {
     "data": {
      "text/plain": [
       "['2', '141', '2', '5']"
      ]
     },
     "execution_count": 47,
     "metadata": {},
     "output_type": "execute_result"
    }
   ],
   "source": [
    "re.findall(r'\\d+(?!\\.)', \n",
    "           'Here are 2 numbers: 3.141, 20.5')"
   ]
  },
  {
   "cell_type": "code",
   "execution_count": 48,
   "id": "4331a00c",
   "metadata": {},
   "outputs": [
    {
     "data": {
      "text/plain": [
       "['141', '5']"
      ]
     },
     "execution_count": 48,
     "metadata": {},
     "output_type": "execute_result"
    }
   ],
   "source": [
    "re.findall(r'(?<=\\.)\\d+', \n",
    "           'Here are 2 numbers: 3.141, 20.5')"
   ]
  },
  {
   "cell_type": "code",
   "execution_count": 49,
   "id": "52d08ffb",
   "metadata": {},
   "outputs": [
    {
     "data": {
      "text/plain": [
       "['5', '40']"
      ]
     },
     "execution_count": 49,
     "metadata": {},
     "output_type": "execute_result"
    }
   ],
   "source": [
    "re.findall(r'\\d+(?=\\s[A-Z]+)', \n",
    "           'I spent 5 USD (approx. 40 HKD) to buy 10 cakes 2 days ago.')"
   ]
  },
  {
   "cell_type": "code",
   "execution_count": 50,
   "id": "1637a305",
   "metadata": {},
   "outputs": [
    {
     "data": {
      "text/plain": [
       "['2']"
      ]
     },
     "execution_count": 50,
     "metadata": {},
     "output_type": "execute_result"
    }
   ],
   "source": [
    "re.findall(r'\\d+(?=\\s\\w{4}\\b)', \n",
    "           'I spent 5 USD (approx. 40 HKD) to buy 10 cakes 2 days ago.')"
   ]
  },
  {
   "cell_type": "code",
   "execution_count": 51,
   "id": "34de5bff",
   "metadata": {},
   "outputs": [
    {
     "data": {
      "text/plain": [
       "['USD', 'HKD']"
      ]
     },
     "execution_count": 51,
     "metadata": {},
     "output_type": "execute_result"
    }
   ],
   "source": [
    "re.findall(r'(?:HK|US)D', \n",
    "           'I spent 5 USD (approx. 40 HKD) to buy 10 cakes 2 days ago.')\n"
   ]
  },
  {
   "cell_type": "code",
   "execution_count": 52,
   "id": "8349732a",
   "metadata": {},
   "outputs": [
    {
     "data": {
      "text/plain": [
       "['129.66.19.10']"
      ]
     },
     "execution_count": 52,
     "metadata": {},
     "output_type": "execute_result"
    }
   ],
   "source": [
    "re.findall(r'(?:\\d{1,3}\\.){3}\\d{1,3}', \n",
    "           'my ip address is 129.66.19.10 and phone number is 321.642')"
   ]
  },
  {
   "cell_type": "markdown",
   "id": "b1b956d4",
   "metadata": {},
   "source": [
    "# about flags"
   ]
  },
  {
   "cell_type": "code",
   "execution_count": 53,
   "id": "0b95a375",
   "metadata": {
    "scrolled": true
   },
   "outputs": [
    {
     "data": {
      "text/plain": [
       "['The', 'University', 'of', 'Hong', 'Kong', 'HKU']"
      ]
     },
     "execution_count": 53,
     "metadata": {},
     "output_type": "execute_result"
    }
   ],
   "source": [
    "re.findall(r'[a-z]+', text7, flags = re.I)"
   ]
  },
  {
   "cell_type": "code",
   "execution_count": 54,
   "id": "c7d0c9d4",
   "metadata": {},
   "outputs": [
    {
     "data": {
      "text/plain": [
       "['he Univ', 'of Hong']"
      ]
     },
     "execution_count": 54,
     "metadata": {},
     "output_type": "execute_result"
    }
   ],
   "source": [
    "# to add multiple flags\n",
    "re.findall(r\"\"\"[a-z]{2}            # {4} means to match exactly 4\n",
    "                    \\s[a-z]{4}    # \\s means to match with a space\"\"\",\n",
    "          text7, flags = re.I | re.X)\n",
    "\n",
    "#  re.X: to allow comments in the pattern."
   ]
  },
  {
   "cell_type": "code",
   "execution_count": 55,
   "id": "09c0e368",
   "metadata": {},
   "outputs": [
    {
     "data": {
      "text/plain": [
       "['Regex', 'Flags']"
      ]
     },
     "execution_count": 55,
     "metadata": {},
     "output_type": "execute_result"
    }
   ],
   "source": [
    "s = \"\"\"Regex\n",
    "Flags\"\"\"\n",
    "\n",
    "re.findall(r'^\\w+', s, re.M)  \n",
    "# re.M: to match in multiple lines, each has a start and an end"
   ]
  }
 ],
 "metadata": {
  "kernelspec": {
   "display_name": "Python 3",
   "language": "python",
   "name": "python3"
  },
  "language_info": {
   "codemirror_mode": {
    "name": "ipython",
    "version": 3
   },
   "file_extension": ".py",
   "mimetype": "text/x-python",
   "name": "python",
   "nbconvert_exporter": "python",
   "pygments_lexer": "ipython3",
   "version": "3.12.5"
  }
 },
 "nbformat": 4,
 "nbformat_minor": 5
}
