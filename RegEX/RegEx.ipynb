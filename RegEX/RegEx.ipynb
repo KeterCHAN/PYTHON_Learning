{
 "cells": [
  {
   "cell_type": "markdown",
   "metadata": {},
   "source": [
    "findall()    Returns a list containing all matches\n",
    "\n",
    "search()     Returns a match object if there is a match anywhere in the\n",
    "             string, None on failure\n",
    "split()      Returns a list where the string has been split at each match\n",
    "\n",
    "sub()        Replaces one or many matches with a string\n",
    "\n",
    "compile()    Returns a RegEx pattern"
   ]
  },
  {
   "cell_type": "markdown",
   "metadata": {},
   "source": [
    "span()      Returns a tuple containing the start and end positions of the match\n",
    "start()     Returns the start position of the match\n",
    "end()       Returns the end position of the match\n",
    "string      Returns the string passed into the method"
   ]
  },
  {
   "cell_type": "markdown",
   "metadata": {},
   "source": [
    "[]  A set of characters\n",
    "\\   Escape character, used to formulate special characters\n",
    ".   Any character, except newline character\n",
    "^   Starts with\n",
    "$   Ends with\n",
    "*   Zero or more occurrences\n",
    "+   One or more occurrences\n",
    "?   Turns greedy matching to non-greedy matching\n",
    "{}  Exactly the specified number of occurrences\n",
    "|   Either or\n",
    "()  Capture and group"
   ]
  },
  {
   "cell_type": "markdown",
   "metadata": {},
   "source": [
    "\\A  Returns a match if the specified characters are at the beginning of the string\n",
    "\\d  Returns a match where the string contains digits (numbers from 0-9)\n",
    "\\D  Returns a match where the string DOES NOT contain digits\n",
    "\\s  Returns a match where the string contains a white space character\n",
    "\\S  Returns a match where the string DOES NOT contain a white space character\n",
    "\\w  Returns a match where the string contains any word characters (characters from a to Z, digits from 0-9, and the underscore _ character)\n",
    "\\W  Returns a match where the string DOES NOT contain any word characters\n",
    "\\Z  Returns a match if the specified characters are at the end of the string\n",
    "\\t  Returns a match with a tab\n",
    "\\.  Returns a match with a dot\n",
    "\\\\  Returns a match with a backslash\n",
    "\\[  Returns a match with a left square bracket"
   ]
  },
  {
   "cell_type": "markdown",
   "metadata": {},
   "source": [
    "\\b          Matches with word boundary. Pattern must be in raw string.\n",
    "(HK|US)D    Matches with \"HKD\" or \"USD\", returns \"HK\" or \"US\".\n",
    "(?:HK|US)D  Matches and returns \"HKD\" or \"USD\". (?:) creates a non-capturing group.\n",
    "x(?=y)      Matches and returns \"x\" only if \"x\" is followed by \"y\".\n",
    "x(?!y)      Matches and returns \"x\" only if \"x\" is not followed by \"y\".\n",
    "(?<=y)x     Matches and returns \"x\" only if \"x\" is preceded by \"y\".\n",
    "(?<!y)x     Matches and returns \"x\" only if \"x\" is not preceded by \"y\""
   ]
  },
  {
   "cell_type": "markdown",
   "metadata": {},
   "source": [
    "re.ASCII\n",
    "re.A    There.ASCIIis relevant to the byte patterns only. It makes the\\w,\\W,\\b,\\B,\\d, \\D, and\\Sperform ASCII-only matching instead of full   Unicode matching.\n",
    "\n",
    "re.IGNORECASE\n",
    "re.I    perform case-insensitive matching. It means that the[A-Z]will also match lowercase letters.\n",
    "\n",
    "re.LOCALE\n",
    "re.L    There.LOCALEis relevant only to the byte pattern. It makes the\\w,\\W,\\b,\\Band case-sensitive matching dependent on the current locale. There.LOCALEis not compatible with there.ASCIIflag.\n",
    "\n",
    "re.MUTILINE\n",
    "re.M    There.MULTILINEmakes the^matches at the beginning of a string and at the beginning of each line and$matches at the end of a string and at the end of each line.\n",
    "\n",
    "re.DOTALL\n",
    "re.S    By default, the dot (.) matches any characters except a newline. There.DOTALLmakes the dot (.) matches all characters including a newline.\n",
    "\n",
    "re.VERBOSE\n",
    "re.X    There.VERBOSEflag allows you to organize a pattern into logical sections visually and add comments."
   ]
  }
 ],
 "metadata": {
  "kernelspec": {
   "display_name": "base",
   "language": "python",
   "name": "python3"
  },
  "language_info": {
   "codemirror_mode": {
    "name": "ipython",
    "version": 3
   },
   "file_extension": ".py",
   "mimetype": "text/x-python",
   "name": "python",
   "nbconvert_exporter": "python",
   "pygments_lexer": "ipython3",
   "version": "3.12.4"
  }
 },
 "nbformat": 4,
 "nbformat_minor": 2
}
