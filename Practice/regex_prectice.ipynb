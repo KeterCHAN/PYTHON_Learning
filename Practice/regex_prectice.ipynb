{
 "cells": [
  {
   "cell_type": "code",
   "execution_count": 3,
   "metadata": {},
   "outputs": [],
   "source": [
    "import os ,re\n",
    "os.chdir(r'D:\\HKU\\M1\\MSBA7001\\data_in')"
   ]
  },
  {
   "cell_type": "code",
   "execution_count": 4,
   "metadata": {},
   "outputs": [],
   "source": [
    "#1\n",
    "with open('./mbox_short.txt', 'r', encoding='utf-8') as f:\n",
    "    lines = f.readlines()\n",
    "nums = list()\n",
    "for line in lines:\n",
    "    if re.findall(r'Revision[:]\\s[0-9]{5}',line):\n",
    "        nums.extend(re.findall(r'Revision:\\s([0-9]{5})',line))"
   ]
  },
  {
   "cell_type": "code",
   "execution_count": 5,
   "metadata": {},
   "outputs": [
    {
     "data": {
      "text/plain": [
       "26"
      ]
     },
     "execution_count": 5,
     "metadata": {},
     "output_type": "execute_result"
    }
   ],
   "source": [
    "len(nums)"
   ]
  },
  {
   "cell_type": "code",
   "execution_count": 6,
   "metadata": {},
   "outputs": [
    {
     "data": {
      "text/plain": [
       "['39771', '39770', '39769', '39766', '39765']"
      ]
     },
     "execution_count": 6,
     "metadata": {},
     "output_type": "execute_result"
    }
   ],
   "source": [
    "nums[:5]"
   ]
  },
  {
   "cell_type": "code",
   "execution_count": 7,
   "metadata": {},
   "outputs": [],
   "source": [
    "#2\n",
    "with open('./mbox_short.txt', 'r', encoding='utf-8') as f:\n",
    "    lines = f.readlines()\n",
    "addresses = list()\n",
    "for line in lines:\n",
    "    if re.findall(r'Received: .+\\[(\\d{1,3}\\.\\d{1,3}\\.\\d{1,3}\\.\\d{1,3})\\]',line):\n",
    "        addresses.append(re.findall(r'Received: .+\\[(\\d{1,3}\\.\\d{1,3}\\.\\d{1,3}\\.\\d{1,3})\\]',line))"
   ]
  },
  {
   "cell_type": "code",
   "execution_count": 8,
   "metadata": {},
   "outputs": [
    {
     "data": {
      "text/plain": [
       "188"
      ]
     },
     "execution_count": 8,
     "metadata": {},
     "output_type": "execute_result"
    }
   ],
   "source": [
    "len(addresses)"
   ]
  },
  {
   "cell_type": "code",
   "execution_count": 9,
   "metadata": {},
   "outputs": [
    {
     "data": {
      "text/plain": [
       "[['141.211.14.90'],\n",
       " ['141.211.14.79'],\n",
       " ['127.0.0.1'],\n",
       " ['194.35.219.182'],\n",
       " ['134.68.220.122'],\n",
       " ['127.0.0.1'],\n",
       " ['141.211.14.97'],\n",
       " ['141.211.93.149'],\n",
       " ['194.35.219.184'],\n",
       " ['127.0.0.1'],\n",
       " ['194.35.219.182'],\n",
       " ['134.68.220.122'],\n",
       " ['127.0.0.1'],\n",
       " ['141.211.14.25'],\n",
       " ['141.211.93.144'],\n",
       " ['194.35.219.184'],\n",
       " ['127.0.0.1'],\n",
       " ['194.35.219.182'],\n",
       " ['134.68.220.122'],\n",
       " ['127.0.0.1'],\n",
       " ['141.211.14.25'],\n",
       " ['141.211.14.43'],\n",
       " ['194.35.219.184'],\n",
       " ['127.0.0.1'],\n",
       " ['194.35.219.182'],\n",
       " ['134.68.220.122'],\n",
       " ['127.0.0.1'],\n",
       " ['141.211.14.46'],\n",
       " ['141.211.14.83'],\n",
       " ['194.35.219.184'],\n",
       " ['127.0.0.1'],\n",
       " ['194.35.219.182'],\n",
       " ['134.68.220.122'],\n",
       " ['127.0.0.1'],\n",
       " ['141.211.14.93'],\n",
       " ['141.211.93.142'],\n",
       " ['194.35.219.184'],\n",
       " ['127.0.0.1'],\n",
       " ['194.35.219.182'],\n",
       " ['134.68.220.122'],\n",
       " ['127.0.0.1'],\n",
       " ['141.211.14.46'],\n",
       " ['141.211.14.72'],\n",
       " ['194.35.219.184'],\n",
       " ['127.0.0.1'],\n",
       " ['194.35.219.182'],\n",
       " ['134.68.220.122'],\n",
       " ['127.0.0.1'],\n",
       " ['141.211.14.46'],\n",
       " ['141.211.93.151'],\n",
       " ['194.35.219.184'],\n",
       " ['127.0.0.1'],\n",
       " ['194.35.219.182'],\n",
       " ['134.68.220.122'],\n",
       " ['127.0.0.1'],\n",
       " ['141.211.14.25'],\n",
       " ['141.211.14.79'],\n",
       " ['194.35.219.184'],\n",
       " ['127.0.0.1'],\n",
       " ['194.35.219.182'],\n",
       " ['134.68.220.122'],\n",
       " ['127.0.0.1'],\n",
       " ['141.211.14.36'],\n",
       " ['141.211.14.84'],\n",
       " ['194.35.219.184'],\n",
       " ['127.0.0.1'],\n",
       " ['194.35.219.182'],\n",
       " ['134.68.220.122'],\n",
       " ['127.0.0.1'],\n",
       " ['141.211.14.97'],\n",
       " ['141.211.93.152'],\n",
       " ['194.35.219.184'],\n",
       " ['127.0.0.1'],\n",
       " ['194.35.219.182'],\n",
       " ['134.68.220.122'],\n",
       " ['127.0.0.1'],\n",
       " ['141.211.14.39'],\n",
       " ['141.211.14.79'],\n",
       " ['194.35.219.184'],\n",
       " ['127.0.0.1'],\n",
       " ['194.35.219.182'],\n",
       " ['134.68.220.122'],\n",
       " ['127.0.0.1'],\n",
       " ['141.211.14.90'],\n",
       " ['141.211.93.153'],\n",
       " ['194.35.219.184'],\n",
       " ['127.0.0.1'],\n",
       " ['194.35.219.182'],\n",
       " ['134.68.220.122'],\n",
       " ['127.0.0.1'],\n",
       " ['141.211.14.97'],\n",
       " ['141.211.14.84'],\n",
       " ['194.35.219.184'],\n",
       " ['127.0.0.1'],\n",
       " ['194.35.219.182'],\n",
       " ['134.68.220.122'],\n",
       " ['127.0.0.1'],\n",
       " ['141.211.14.25'],\n",
       " ['141.211.14.79'],\n",
       " ['194.35.219.184'],\n",
       " ['127.0.0.1'],\n",
       " ['194.35.219.182'],\n",
       " ['134.68.220.122'],\n",
       " ['127.0.0.1'],\n",
       " ['141.211.14.90'],\n",
       " ['141.211.14.76'],\n",
       " ['194.35.219.184'],\n",
       " ['127.0.0.1'],\n",
       " ['194.35.219.182'],\n",
       " ['134.68.220.122'],\n",
       " ['127.0.0.1'],\n",
       " ['141.211.14.39'],\n",
       " ['141.211.14.76'],\n",
       " ['194.35.219.184'],\n",
       " ['127.0.0.1'],\n",
       " ['194.35.219.182'],\n",
       " ['134.68.220.122'],\n",
       " ['127.0.0.1'],\n",
       " ['141.211.14.98'],\n",
       " ['141.211.14.83'],\n",
       " ['194.35.219.184'],\n",
       " ['127.0.0.1'],\n",
       " ['194.35.219.182'],\n",
       " ['134.68.220.122'],\n",
       " ['127.0.0.1'],\n",
       " ['141.211.14.92'],\n",
       " ['141.211.93.145'],\n",
       " ['194.35.219.184'],\n",
       " ['127.0.0.1'],\n",
       " ['194.35.219.182'],\n",
       " ['134.68.220.122'],\n",
       " ['127.0.0.1'],\n",
       " ['141.211.14.46'],\n",
       " ['141.211.93.143'],\n",
       " ['194.35.219.184'],\n",
       " ['127.0.0.1'],\n",
       " ['194.35.219.182'],\n",
       " ['134.68.220.122'],\n",
       " ['127.0.0.1'],\n",
       " ['141.211.14.25'],\n",
       " ['141.211.14.58'],\n",
       " ['194.35.219.184'],\n",
       " ['127.0.0.1'],\n",
       " ['194.35.219.182'],\n",
       " ['134.68.220.122'],\n",
       " ['127.0.0.1'],\n",
       " ['141.211.14.91'],\n",
       " ['141.211.93.142'],\n",
       " ['194.35.219.184'],\n",
       " ['127.0.0.1'],\n",
       " ['194.35.219.182'],\n",
       " ['134.68.220.122'],\n",
       " ['127.0.0.1'],\n",
       " ['141.211.14.91'],\n",
       " ['141.211.14.58'],\n",
       " ['194.35.219.184'],\n",
       " ['127.0.0.1'],\n",
       " ['194.35.219.182'],\n",
       " ['134.68.220.122'],\n",
       " ['127.0.0.1'],\n",
       " ['141.211.14.39'],\n",
       " ['141.211.93.141'],\n",
       " ['194.35.219.184'],\n",
       " ['127.0.0.1'],\n",
       " ['194.35.219.182'],\n",
       " ['134.68.220.122'],\n",
       " ['127.0.0.1'],\n",
       " ['141.211.14.34'],\n",
       " ['141.211.93.149'],\n",
       " ['194.35.219.184'],\n",
       " ['127.0.0.1'],\n",
       " ['194.35.219.182'],\n",
       " ['134.68.220.122'],\n",
       " ['127.0.0.1'],\n",
       " ['141.211.14.46'],\n",
       " ['141.211.93.145'],\n",
       " ['194.35.219.184'],\n",
       " ['127.0.0.1'],\n",
       " ['194.35.219.182'],\n",
       " ['134.68.220.122'],\n",
       " ['127.0.0.1'],\n",
       " ['141.211.14.91'],\n",
       " ['141.211.14.58'],\n",
       " ['194.35.219.184'],\n",
       " ['127.0.0.1'],\n",
       " ['194.35.219.182'],\n",
       " ['134.68.220.122'],\n",
       " ['127.0.0.1']]"
      ]
     },
     "execution_count": 9,
     "metadata": {},
     "output_type": "execute_result"
    }
   ],
   "source": [
    "addresses"
   ]
  },
  {
   "cell_type": "code",
   "execution_count": 10,
   "metadata": {},
   "outputs": [],
   "source": [
    "#3\n",
    "with open('./mbox_short.txt', 'r', encoding='utf-8') as f:\n",
    "    lines = f.readlines()\n",
    "emails = list()\n",
    "for line in lines:\n",
    "    if re.findall(r'Received:.+(?:\\(|\\s)((?:[a-zA-Z]+\\.)+[a-zA-z]+)',line):\n",
    "        emails.append(re.findall(r'Received:.+(?:\\(|\\s)((?:[a-zA-z]+\\.)+[a-zA-Z]+)',line))"
   ]
  },
  {
   "cell_type": "code",
   "execution_count": 11,
   "metadata": {},
   "outputs": [
    {
     "data": {
      "text/plain": [
       "189"
      ]
     },
     "execution_count": 11,
     "metadata": {},
     "output_type": "execute_result"
    }
   ],
   "source": [
    "len(emails)"
   ]
  },
  {
   "cell_type": "code",
   "execution_count": 12,
   "metadata": {},
   "outputs": [
    {
     "data": {
      "text/plain": [
       "[['mail.umich.edu'],\n",
       " ['holes.mr.itd.umich.edu'],\n",
       " ['paploo.uhi.ac.uk'],\n",
       " ['paploo.uhi.ac.uk'],\n",
       " ['prod.collab.uhi.ac.uk']]"
      ]
     },
     "execution_count": 12,
     "metadata": {},
     "output_type": "execute_result"
    }
   ],
   "source": [
    "emails[:5]"
   ]
  },
  {
   "cell_type": "code",
   "execution_count": 13,
   "metadata": {},
   "outputs": [],
   "source": [
    "#4\n",
    "with open('./mbox_short.txt', 'r', encoding='utf-8') as f:\n",
    "    lines = f.readlines()\n",
    "url_collects = list()\n",
    "for line in lines:\n",
    "    if re.findall(r'(https?://[^\\s<>\"]+)',line):\n",
    "        url_collects.append(re.findall(r'(https?://[^\\s<>\"]+)',line))\n"
   ]
  },
  {
   "cell_type": "code",
   "execution_count": 14,
   "metadata": {},
   "outputs": [
    {
     "data": {
      "text/plain": [
       "75"
      ]
     },
     "execution_count": 14,
     "metadata": {},
     "output_type": "execute_result"
    }
   ],
   "source": [
    "len(url_collects)"
   ]
  },
  {
   "cell_type": "code",
   "execution_count": 15,
   "metadata": {},
   "outputs": [
    {
     "data": {
      "text/plain": [
       "[['http://source.sakaiproject.org/viewsvn/?view=rev&rev=39772'],\n",
       " ['https://collab.sakaiproject.org/portal)'],\n",
       " ['http://source.sakaiproject.org/viewsvn/?view=rev&rev=39771'],\n",
       " ['https://collab.sakaiproject.org/portal)'],\n",
       " ['http://source.sakaiproject.org/viewsvn/?view=rev&rev=39770']]"
      ]
     },
     "execution_count": 15,
     "metadata": {},
     "output_type": "execute_result"
    }
   ],
   "source": [
    "url_collects[:5]"
   ]
  },
  {
   "cell_type": "code",
   "execution_count": 16,
   "metadata": {},
   "outputs": [],
   "source": [
    "#5\n",
    "def name_check(name):\n",
    "    if len(name)< 6 or len(name)> 18:\n",
    "        return False\n",
    "    if not re.search(r'[a-z0-9_-]',name):\n",
    "        return False\n",
    "    if re.search(r'^[0-9_-]',name):\n",
    "        return False\n",
    "    return True"
   ]
  },
  {
   "cell_type": "code",
   "execution_count": 17,
   "metadata": {},
   "outputs": [
    {
     "data": {
      "text/plain": [
       "False"
      ]
     },
     "execution_count": 17,
     "metadata": {},
     "output_type": "execute_result"
    }
   ],
   "source": [
    "name_check('AABBBBBBB')"
   ]
  },
  {
   "cell_type": "code",
   "execution_count": 18,
   "metadata": {},
   "outputs": [
    {
     "name": "stdout",
     "output_type": "stream",
     "text": [
      "wvV?snV9M5ro\n"
     ]
    }
   ],
   "source": [
    "#6\n",
    "import random\n",
    "import string\n",
    "\n",
    "def password_gen(num):\n",
    "    if num < 8 or num > 16:\n",
    "        return \"Password length must be between 8 and 16 characters.\"\n",
    "    \n",
    "    lowercase = string.ascii_lowercase\n",
    "    uppercase = string.ascii_uppercase\n",
    "    digits = string.digits\n",
    "    special_chars = \"_$!?\"\n",
    "    \n",
    "    # Ensure at least one of each required character type\n",
    "    password = [\n",
    "        random.choice(lowercase),\n",
    "        random.choice(uppercase),\n",
    "        random.choice(digits),\n",
    "        random.choice(special_chars)\n",
    "    ]\n",
    "    \n",
    "    # Fill the rest of the password with random characters\n",
    "    all_chars = lowercase + uppercase + digits + special_chars\n",
    "    for _ in range(num - 4):\n",
    "        password.append(random.choice(all_chars))\n",
    "    \n",
    "    # Shuffle the password to randomize character positions\n",
    "    random.shuffle(password)\n",
    "    \n",
    "    return ''.join(password)\n",
    "\n",
    "# Example usage:\n",
    "print(password_gen(12))"
   ]
  },
  {
   "cell_type": "code",
   "execution_count": 33,
   "metadata": {},
   "outputs": [],
   "source": [
    "#7\n",
    "with open('./imdb.txt','r', encoding='UTF-8') as f:\n",
    "    lines = f.read()\n",
    "links = re.findall(r'<a href=\"(/title/\\w+/)',lines)\n",
    "links = links[1::2]\n",
    "for i in range(len(links)):\n",
    "    links[i] = 'https://www.imdb.com' + links[i]"
   ]
  },
  {
   "cell_type": "code",
   "execution_count": 34,
   "metadata": {},
   "outputs": [
    {
     "data": {
      "text/plain": [
       "250"
      ]
     },
     "execution_count": 34,
     "metadata": {},
     "output_type": "execute_result"
    }
   ],
   "source": [
    "len(links)"
   ]
  },
  {
   "cell_type": "code",
   "execution_count": 35,
   "metadata": {},
   "outputs": [
    {
     "data": {
      "text/plain": [
       "['https://www.imdb.com/title/tt0111161/',\n",
       " 'https://www.imdb.com/title/tt0068646/',\n",
       " 'https://www.imdb.com/title/tt0468569/',\n",
       " 'https://www.imdb.com/title/tt0071562/',\n",
       " 'https://www.imdb.com/title/tt0050083/']"
      ]
     },
     "execution_count": 35,
     "metadata": {},
     "output_type": "execute_result"
    }
   ],
   "source": [
    "links[:5]"
   ]
  },
  {
   "cell_type": "code",
   "execution_count": null,
   "metadata": {},
   "outputs": [],
   "source": [
    "with open('movie_links.txt', 'w', encoding='utf-8') as f:\n",
    "    for link in links:\n",
    "        f.write(link + '\\n')"
   ]
  }
 ],
 "metadata": {
  "kernelspec": {
   "display_name": "Python 3",
   "language": "python",
   "name": "python3"
  },
  "language_info": {
   "codemirror_mode": {
    "name": "ipython",
    "version": 3
   },
   "file_extension": ".py",
   "mimetype": "text/x-python",
   "name": "python",
   "nbconvert_exporter": "python",
   "pygments_lexer": "ipython3",
   "version": "3.12.5"
  }
 },
 "nbformat": 4,
 "nbformat_minor": 2
}
