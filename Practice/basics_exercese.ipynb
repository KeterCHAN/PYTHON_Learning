{
 "cells": [
  {
   "cell_type": "markdown",
   "metadata": {},
   "source": [
    "# 1.Basic"
   ]
  },
  {
   "cell_type": "code",
   "execution_count": 1,
   "metadata": {},
   "outputs": [
    {
     "name": "stdout",
     "output_type": "stream",
     "text": [
      "Hello, Chao Ding.\n"
     ]
    }
   ],
   "source": [
    "#1 \n",
    "first = 'Chao'\n",
    "last = 'Ding'\n",
    "print(f'Hello, {last} {first}.')"
   ]
  },
  {
   "cell_type": "code",
   "execution_count": 3,
   "metadata": {},
   "outputs": [
    {
     "name": "stdout",
     "output_type": "stream",
     "text": [
      "24.6 Celsius degrees converted to Fahrenheit is 76.28.\n"
     ]
    }
   ],
   "source": [
    "#2\n",
    "cel = 24.6\n",
    "fah = cel*9/5 + 32\n",
    "print(f'{cel} Celsius degrees converted to Fahrenheit is {fah:.2f}.')"
   ]
  },
  {
   "cell_type": "code",
   "execution_count": 7,
   "metadata": {},
   "outputs": [
    {
     "name": "stdout",
     "output_type": "stream",
     "text": [
      "5 is old\n"
     ]
    }
   ],
   "source": [
    "#3\n",
    "num = 5\n",
    "print(f'{num} is even.' if num%2==0 else f'{num} is old')"
   ]
  },
  {
   "cell_type": "code",
   "execution_count": 8,
   "metadata": {},
   "outputs": [
    {
     "name": "stdout",
     "output_type": "stream",
     "text": [
      "Eric is able to vote \n"
     ]
    }
   ],
   "source": [
    "#4\n",
    "name, age = 'Eric', 32\n",
    "print(f'{name} is able to vote ' if age>18 else f'{name} is not able to vote')"
   ]
  },
  {
   "cell_type": "code",
   "execution_count": 9,
   "metadata": {},
   "outputs": [
    {
     "name": "stdout",
     "output_type": "stream",
     "text": [
      "The triangle is isosceles.\n"
     ]
    }
   ],
   "source": [
    "#5\n",
    "x, y, z = 6, 6, 9\n",
    "if x == y == z:\n",
    "    print(\"The triangle is equilateral.\")\n",
    "elif x != y and y != z and x != z:\n",
    "    print(\"The triangle is scalene.\")\n",
    "else:\n",
    "    print(\"The triangle is isosceles.\")"
   ]
  },
  {
   "cell_type": "markdown",
   "metadata": {},
   "source": [
    "# 2.Functions"
   ]
  },
  {
   "cell_type": "code",
   "execution_count": 1,
   "metadata": {},
   "outputs": [
    {
     "name": "stdout",
     "output_type": "stream",
     "text": [
      "Your grade: A\n"
     ]
    }
   ],
   "source": [
    "#1\n",
    "def grade(x):\n",
    "    if x>=90:\n",
    "        return 'A'\n",
    "    elif x>=80:\n",
    "        return 'B'\n",
    "    elif x>=70:\n",
    "        return 'C'\n",
    "    elif x>=60:\n",
    "        return 'D'\n",
    "    else:\n",
    "        return 'F'\n",
    "print('Your grade:', grade(96))"
   ]
  },
  {
   "cell_type": "code",
   "execution_count": 2,
   "metadata": {},
   "outputs": [
    {
     "data": {
      "text/plain": [
       "6"
      ]
     },
     "execution_count": 2,
     "metadata": {},
     "output_type": "execute_result"
    }
   ],
   "source": [
    "#2\n",
    "def fact(x):\n",
    "    if x == 0:\n",
    "        return 1\n",
    "    else:\n",
    "        return x*fact(x-1)\n",
    "fact(3)"
   ]
  },
  {
   "cell_type": "code",
   "execution_count": 3,
   "metadata": {},
   "outputs": [
    {
     "data": {
      "text/plain": [
       "5"
      ]
     },
     "execution_count": 3,
     "metadata": {},
     "output_type": "execute_result"
    }
   ],
   "source": [
    "#3\n",
    "def max_of_three(x, y, z):\n",
    "    return max(x, y, z)\n",
    "max_of_three(3, 5, 2)"
   ]
  },
  {
   "cell_type": "code",
   "execution_count": 4,
   "metadata": {},
   "outputs": [
    {
     "data": {
      "text/plain": [
       "True"
      ]
     },
     "execution_count": 4,
     "metadata": {},
     "output_type": "execute_result"
    }
   ],
   "source": [
    "#4\n",
    "def leap_year(year):\n",
    "    if year%4==0 and year%100!=0 or year%400==0:\n",
    "        return True\n",
    "    else:\n",
    "        return False\n",
    "leap_year(2000)"
   ]
  },
  {
   "cell_type": "markdown",
   "metadata": {},
   "source": [
    "# 3.Modules"
   ]
  },
  {
   "cell_type": "code",
   "execution_count": 21,
   "metadata": {},
   "outputs": [
    {
     "name": "stdout",
     "output_type": "stream",
     "text": [
      "Random float: 0.37, Binary: 0\n"
     ]
    }
   ],
   "source": [
    "import random\n",
    "\n",
    "#1\n",
    "# Generate a random floating number between 0 and 1, rounded to 3 decimal places\n",
    "random_float = round(random.random(), 3)\n",
    "# Convert the number to binary (0 or 1) based on the cutoff value of 0.5\n",
    "binary_value = 1 if random_float >= 0.5 else 0\n",
    "\n",
    "print(f'Random float: {random_float}, Binary: {binary_value}')"
   ]
  },
  {
   "cell_type": "code",
   "execution_count": null,
   "metadata": {},
   "outputs": [],
   "source": [
    "import math\n",
    "\n",
    "#2\n",
    "def score(x, y):\n",
    "    distance = math.sqrt(x**2 + y**2)\n",
    "    if distance <= 1:\n",
    "        return 10\n",
    "    elif distance <= 5:\n",
    "        return 5\n",
    "    elif distance <= 10:\n",
    "        return 1\n",
    "    else:\n",
    "        return \"dart out of board\"\n",
    "\n",
    "# Example usage\n",
    "print(score(0.5, 0.5))  # Should return 10\n",
    "print(score(3, 4))      # Should return 5\n",
    "print(score(6, 8))      # Should return 1\n",
    "print(score(11, 0))     # Should return \"dart out of board\""
   ]
  },
  {
   "cell_type": "code",
   "execution_count": 29,
   "metadata": {},
   "outputs": [
    {
     "name": "stdout",
     "output_type": "stream",
     "text": [
      "Value of dice A is: 3\n",
      "Value of dice B is: 1\n",
      "A wins!\n"
     ]
    }
   ],
   "source": [
    "#3\n",
    "dice_A = random.randint(1, 6)\n",
    "dice_B = random.randint(1, 6)\n",
    "\n",
    "print(f'Value of dice A is: {dice_A}')\n",
    "print(f'Value of dice B is: {dice_B}')\n",
    "\n",
    "if dice_A > dice_B:\n",
    "    print('A wins!')\n",
    "elif dice_B > dice_A:\n",
    "    print('B wins!')\n",
    "else:\n",
    "    print('It\\'s a tie!')"
   ]
  },
  {
   "cell_type": "code",
   "execution_count": 35,
   "metadata": {},
   "outputs": [
    {
     "name": "stdout",
     "output_type": "stream",
     "text": [
      "Player A chose rock\n",
      "Player B chose scissors\n",
      "Rock beats scissors! Player A wins!\n"
     ]
    }
   ],
   "source": [
    "#4\n",
    "choices = ['rock', 'paper', 'scissors']\n",
    "\n",
    "# Randomly assign a choice to each player\n",
    "player_A_choice = random.choice(choices)\n",
    "player_B_choice = random.choice(choices)\n",
    "\n",
    "print(f'Player A chose {player_A_choice}')\n",
    "print(f'Player B chose {player_B_choice}')\n",
    "\n",
    "# Determine the winner\n",
    "if player_A_choice == player_B_choice:\n",
    "    print('It\\'s a draw!')\n",
    "elif (player_A_choice == 'rock' and player_B_choice == 'scissors') or \\\n",
    "     (player_A_choice == 'scissors' and player_B_choice == 'paper') or \\\n",
    "     (player_A_choice == 'paper' and player_B_choice == 'rock'):\n",
    "    print(f'{player_A_choice.capitalize()} beats {player_B_choice}! Player A wins!')\n",
    "else:\n",
    "    print(f'{player_B_choice.capitalize()} beats {player_A_choice}! Player B wins!')"
   ]
  },
  {
   "cell_type": "markdown",
   "metadata": {},
   "source": [
    "# 4.Loop and Iterations"
   ]
  },
  {
   "cell_type": "code",
   "execution_count": 44,
   "metadata": {},
   "outputs": [
    {
     "name": "stdout",
     "output_type": "stream",
     "text": [
      "476\n"
     ]
    }
   ],
   "source": [
    "import math\n",
    "\n",
    "#1\n",
    "for num in range(1, 100001):\n",
    "    if math.isqrt(num + 100)**2 == num + 100 and math.isqrt(num + 200)**2 == num + 200:\n",
    "        print(num)\n"
   ]
  },
  {
   "cell_type": "code",
   "execution_count": 45,
   "metadata": {},
   "outputs": [
    {
     "name": "stdout",
     "output_type": "stream",
     "text": [
      "2\t3\t5\t7\t11\t13\t17\t19\t23\t29\t31\t37\t41\t43\t47\n"
     ]
    }
   ],
   "source": [
    "#2\n",
    "def prime(stop):\n",
    "    if stop <= 0:\n",
    "        print(\"Stop must be an integer greater than 0.\")\n",
    "        return\n",
    "    \n",
    "    primes = []\n",
    "    for num in range(2, stop + 1):\n",
    "        is_prime = True\n",
    "        for i in range(2, int(math.sqrt(num)) + 1):\n",
    "            if num % i == 0:\n",
    "                is_prime = False\n",
    "                break\n",
    "        if is_prime:\n",
    "            primes.append(num)\n",
    "    \n",
    "    print('\\t'.join(map(str, primes)))\n",
    "\n",
    "prime(50)  # Example usage"
   ]
  },
  {
   "cell_type": "code",
   "execution_count": 2,
   "metadata": {},
   "outputs": [
    {
     "name": "stdout",
     "output_type": "stream",
     "text": [
      "Total: 11, Count: 3, Average: 3.6666666666666665\n"
     ]
    }
   ],
   "source": [
    "#3\n",
    "total = 0\n",
    "count = 0\n",
    "\n",
    "while True:\n",
    "    user_input = input(\"Enter a number: \")\n",
    "    if user_input.lower() == \"done\":\n",
    "        break\n",
    "    \n",
    "    number = int(user_input)\n",
    "    total += number\n",
    "    count += 1\n",
    "   \n",
    "\n",
    "if count > 0:\n",
    "    average = total / count\n",
    "    print(f\"Total: {total}, Count: {count}, Average: {average}\")\n",
    "else:\n",
    "    print(\"No numbers were entered.\")"
   ]
  },
  {
   "cell_type": "code",
   "execution_count": 3,
   "metadata": {},
   "outputs": [
    {
     "name": "stdout",
     "output_type": "stream",
     "text": [
      "* \n",
      "* * \n",
      "* * * \n",
      "* * * * \n",
      "* * * * * \n",
      "* * * * \n",
      "* * * \n",
      "* * \n",
      "* \n"
     ]
    }
   ],
   "source": [
    "#4\n",
    "n = 5\n",
    "for i in range(1, n + 1):\n",
    "    print('* ' * i)\n",
    "for i in range(n - 1, 0, -1):\n",
    "    print('* ' * i)"
   ]
  },
  {
   "cell_type": "code",
   "execution_count": 4,
   "metadata": {},
   "outputs": [
    {
     "name": "stdout",
     "output_type": "stream",
     "text": [
      "[0, 1, 1, 2, 3, 5, 8, 13, 21, 34]\n"
     ]
    }
   ],
   "source": [
    "#5\n",
    "# Initialize the first two numbers of the Fibonacci sequence\n",
    "fib_sequence = [0, 1]\n",
    "\n",
    "# Generate the Fibonacci sequence up to 50\n",
    "while True:\n",
    "    next_fib = fib_sequence[-1] + fib_sequence[-2]\n",
    "    if next_fib > 50:\n",
    "        break\n",
    "    fib_sequence.append(next_fib)\n",
    "\n",
    "print(fib_sequence)"
   ]
  },
  {
   "cell_type": "code",
   "execution_count": 6,
   "metadata": {},
   "outputs": [
    {
     "name": "stdout",
     "output_type": "stream",
     "text": [
      "Your guess is smaller than the target.\n",
      "Your guess is smaller than the target.\n",
      "Bingo! You found it! It took you 3 guesses.\n"
     ]
    }
   ],
   "source": [
    "import random\n",
    "\n",
    "#6\n",
    "target = random.randint(0, 10)\n",
    "guess_count = 0\n",
    "\n",
    "while True:\n",
    "    guess = int(input(\"Take a guess: \"))\n",
    "    guess_count += 1\n",
    "    \n",
    "    if guess < target:\n",
    "        print(\"Your guess is smaller than the target.\")\n",
    "    elif guess > target:\n",
    "        print(\"Your guess is greater than the target.\")\n",
    "    else:\n",
    "        print(f\"Bingo! You found it! It took you {guess_count} guesses.\")\n",
    "        break"
   ]
  },
  {
   "cell_type": "code",
   "execution_count": 7,
   "metadata": {},
   "outputs": [
    {
     "name": "stdout",
     "output_type": "stream",
     "text": [
      "153\t370\t371\t407\n"
     ]
    }
   ],
   "source": [
    "#7\n",
    "valid_numbers = []\n",
    "\n",
    "for num in range(100, 1001):\n",
    "    digits = [int(d) for d in str(num)]\n",
    "    if num == sum(d**3 for d in digits):\n",
    "        valid_numbers.append(num)\n",
    "\n",
    "print('\\t'.join(map(str, valid_numbers)))"
   ]
  },
  {
   "cell_type": "markdown",
   "metadata": {},
   "source": [
    "# Strings"
   ]
  },
  {
   "cell_type": "code",
   "execution_count": 9,
   "metadata": {},
   "outputs": [
    {
     "name": "stdout",
     "output_type": "stream",
     "text": [
      "201924564\n",
      "202027815\n",
      "202130179\n",
      "202232047\n"
     ]
    }
   ],
   "source": [
    "#1\n",
    "import re\n",
    "\n",
    "def extract_number(text):\n",
    "    # Use regular expression to find all numbers in the text\n",
    "    numbers = re.findall(r'\\d+', text)\n",
    "    # Join the numbers to form the complete number and convert to integer\n",
    "    number = int(''.join(numbers))\n",
    "    print(number)\n",
    "\n",
    "# Example usage\n",
    "text1 = 'GDP per capita in 2019 is $24,564.'\n",
    "text2 = 'GDP per capita in 2020 is $27,815.'\n",
    "text3 = 'GDP per capita in 2021 is $30,179.'\n",
    "text4 = 'GDP per capita in 2022 is $32,047.'\n",
    "\n",
    "extract_number(text1)\n",
    "extract_number(text2)\n",
    "extract_number(text3)\n",
    "extract_number(text4)\n"
   ]
  },
  {
   "cell_type": "code",
   "execution_count": 13,
   "metadata": {},
   "outputs": [
    {
     "name": "stdout",
     "output_type": "stream",
     "text": [
      "       *\n",
      "      * *\n",
      "     *   *\n",
      "    *     *\n",
      "   *       *\n",
      "  *         *\n",
      " *           *\n",
      "*             *\n"
     ]
    }
   ],
   "source": [
    "#2\n",
    "def pyramid(n):\n",
    "    if n <= 3:\n",
    "        print(\"n must be greater than 3.\")\n",
    "        return\n",
    "    \n",
    "    for i in range(n):\n",
    "        if i == 0:\n",
    "            print(' ' * (n - i - 1) + '*')\n",
    "        \n",
    "        else:\n",
    "            print(' ' * (n - i - 1) + '*' + ' ' * (2 * i - 1) + '*')\n",
    "\n",
    "pyramid(8)"
   ]
  },
  {
   "cell_type": "code",
   "execution_count": null,
   "metadata": {},
   "outputs": [],
   "source": [
    "#3\n"
   ]
  },
  {
   "cell_type": "code",
   "execution_count": 14,
   "metadata": {},
   "outputs": [
    {
     "name": "stdout",
     "output_type": "stream",
     "text": [
      "dbca\n",
      "52341\n",
      "yx\n",
      "k\n"
     ]
    }
   ],
   "source": [
    "#4\n",
    "def swap(word):\n",
    "    if len(word) <= 1:\n",
    "        return word\n",
    "    return word[-1] + word[1:-1] + word[0]\n",
    "\n",
    "# Example usage\n",
    "print(swap('abcd'))   # Output: dbca\n",
    "print(swap('12345'))  # Output: 52341\n",
    "print(swap('xy'))     # Output: yx\n",
    "print(swap('k'))      # Output: k"
   ]
  },
  {
   "cell_type": "code",
   "execution_count": 15,
   "metadata": {},
   "outputs": [
    {
     "name": "stdout",
     "output_type": "stream",
     "text": [
      "nohtyp\n",
      "olleh\n"
     ]
    }
   ],
   "source": [
    "#5\n",
    "def RevWord(word):\n",
    "    return word[::-1]\n",
    "\n",
    "# Example usage\n",
    "print(RevWord(\"python\"))  # Output: 'nohtyp'\n",
    "print(RevWord(\"hello\"))   # Output: 'olleh'"
   ]
  },
  {
   "cell_type": "code",
   "execution_count": 16,
   "metadata": {},
   "outputs": [
    {
     "name": "stdout",
     "output_type": "stream",
     "text": [
      "Please make sure the string includes only alphabetic letters.\n",
      "The string 'hongkong' has 3 valid substring(s): ongko ngkon gkong\n",
      "The string 'presentation' has 3 valid substring(s): ese ntation tat\n",
      "The string 'program' has 1 valid substring(s): rogr\n",
      "The string 'spend' has no valid substring.\n"
     ]
    }
   ],
   "source": [
    "#6\n",
    "def sub(MyStr):\n",
    "    if not MyStr.isalpha():\n",
    "        print(\"Please make sure the string includes only alphabetic letters.\")\n",
    "        return\n",
    "    \n",
    "    MyStr = MyStr.lower()\n",
    "    valid_substrings = []\n",
    "    \n",
    "    for i in range(len(MyStr)):\n",
    "        for j in range(i + 1, len(MyStr)):\n",
    "            if MyStr[i] == MyStr[j]:\n",
    "                valid_substrings.append(MyStr[i:j+1])\n",
    "    \n",
    "    if valid_substrings:\n",
    "        print(f\"The string '{MyStr}' has {len(valid_substrings)} valid substring(s): {' '.join(valid_substrings)}\")\n",
    "    else:\n",
    "        print(f\"The string '{MyStr}' has no valid substring.\")\n",
    "\n",
    "# Example usage\n",
    "sub(\"20220314\")  # Invalid input\n",
    "sub(\"HONGkong\")  # Valid input\n",
    "sub(\"presentation\")  # Valid input\n",
    "sub(\"program\")  # Valid input\n",
    "sub(\"spend\")  # Valid input"
   ]
  },
  {
   "cell_type": "code",
   "execution_count": 18,
   "metadata": {},
   "outputs": [
    {
     "name": "stdout",
     "output_type": "stream",
     "text": [
      "w\n",
      "D\n",
      "WARNING: Your input is not valid.\n",
      "WARNING: Your input is not valid.\n",
      "Z\n",
      "WARNING: Your input is not valid.\n",
      "WARNING: Your input is not valid.\n",
      "WARNING: Your input is not valid.\n"
     ]
    }
   ],
   "source": [
    "#7\n",
    "def rotate_letter(letter, n):\n",
    "    if not isinstance(letter, str) or not letter.isalpha() or not isinstance(n, int) or len(letter) != 1:\n",
    "        return 'WARNING: Your input is not valid.'\n",
    "    \n",
    "    if letter.islower():\n",
    "        start = ord('a')\n",
    "    else:\n",
    "        start = ord('A')\n",
    "    \n",
    "    rotated = chr(start + (ord(letter) - start + n) % 26)\n",
    "    return rotated\n",
    "\n",
    "# Example usage\n",
    "print(rotate_letter('t', 3))  # Output: 'w'\n",
    "print(rotate_letter('Y', 5))  # Output: 'D'\n",
    "print(rotate_letter('k', 20.1))  # Output: 'WARNING: Your input is not valid.'\n",
    "print(rotate_letter('abc', 19))  # Output: 'WARNING: Your input is not valid.'\n",
    "print(rotate_letter('D', -4))  # Output: 'Z'\n",
    "print(rotate_letter('?', 8))  # Output: 'WARNING: Your input is not valid.'\n",
    "print(rotate_letter(7, 109))  # Output: 'WARNING: Your input is not valid.'\n",
    "print(rotate_letter(20, 'k'))  # Output: 'WARNING: Your input is not valid.'"
   ]
  },
  {
   "cell_type": "code",
   "execution_count": null,
   "metadata": {},
   "outputs": [],
   "source": [
    "#8\n"
   ]
  },
  {
   "cell_type": "markdown",
   "metadata": {},
   "source": [
    "# list , set , dict"
   ]
  },
  {
   "cell_type": "code",
   "execution_count": 19,
   "metadata": {},
   "outputs": [
    {
     "name": "stdout",
     "output_type": "stream",
     "text": [
      "{1: '1', 2: '4', 3: '9', 4: '16', 5: '25', 6: '36', 7: '49', 8: '64', 9: '81'}\n"
     ]
    }
   ],
   "source": [
    "#1\n",
    "new_dict = {i: str(i**2) for i in range(1, 10)}\n",
    "print(new_dict)\n"
   ]
  },
  {
   "cell_type": "code",
   "execution_count": 20,
   "metadata": {},
   "outputs": [
    {
     "name": "stdout",
     "output_type": "stream",
     "text": [
      "24 142\n"
     ]
    }
   ],
   "source": [
    "#2\n",
    "def three_digit():\n",
    "    result = []\n",
    "    for i in range(100, 1000):\n",
    "        digits = [int(d) for d in str(i)]\n",
    "        if all(1 <= d <= 4 for d in digits) and len(set(digits)) == 3:\n",
    "            result.append(i)\n",
    "    return sorted(result)\n",
    "\n",
    "# Example usage\n",
    "print(len(three_digit()), three_digit()[4])"
   ]
  },
  {
   "cell_type": "code",
   "execution_count": 21,
   "metadata": {},
   "outputs": [
    {
     "name": "stdout",
     "output_type": "stream",
     "text": [
      "['Python', 'language', 'learn']\n"
     ]
    }
   ],
   "source": [
    "#3\n",
    "def long_words(text, k):\n",
    "    words = text.split()\n",
    "    long_words_list = [word for word in words if len(word) > k]\n",
    "    print(long_words_list)\n",
    "\n",
    "# Example usage\n",
    "text = 'The Python language is so much fun to learn'\n",
    "long_words(text, 4)"
   ]
  },
  {
   "cell_type": "code",
   "execution_count": 22,
   "metadata": {},
   "outputs": [
    {
     "name": "stdout",
     "output_type": "stream",
     "text": [
      "3\n",
      "-43\n"
     ]
    }
   ],
   "source": [
    "#4\n",
    "def find_smallest(seq):\n",
    "    if not seq:\n",
    "        return None\n",
    "    smallest = seq[0]\n",
    "    for num in seq:\n",
    "        if num < smallest:\n",
    "            smallest = num\n",
    "    return smallest\n",
    "\n",
    "# Example usage\n",
    "print(find_smallest([9, 41, 12, 3, 74, 15]))  # Output: 3\n",
    "print(find_smallest((1, 0, -43, 2.4)))        # Output: -43"
   ]
  },
  {
   "cell_type": "code",
   "execution_count": 23,
   "metadata": {},
   "outputs": [
    {
     "name": "stdout",
     "output_type": "stream",
     "text": [
      "[(8, 'language'), (6, 'python'), (6, 'learn.'), (4, 'much'), (3, 'The'), (3, 'fun'), (2, 'is'), (2, 'so'), (2, 'to')]\n"
     ]
    }
   ],
   "source": [
    "#5\n",
    "def sort_word(text):\n",
    "    words = text.split()\n",
    "    sorted_words = sorted(words, key=len, reverse=True)\n",
    "    return [(len(word), word) for word in sorted_words]\n",
    "\n",
    "# Example usage\n",
    "txt = \"The python language is so much fun to learn.\"\n",
    "print(sort_word(txt))"
   ]
  }
 ],
 "metadata": {
  "kernelspec": {
   "display_name": "Python 3",
   "language": "python",
   "name": "python3"
  },
  "language_info": {
   "codemirror_mode": {
    "name": "ipython",
    "version": 3
   },
   "file_extension": ".py",
   "mimetype": "text/x-python",
   "name": "python",
   "nbconvert_exporter": "python",
   "pygments_lexer": "ipython3",
   "version": "3.12.5"
  }
 },
 "nbformat": 4,
 "nbformat_minor": 2
}
