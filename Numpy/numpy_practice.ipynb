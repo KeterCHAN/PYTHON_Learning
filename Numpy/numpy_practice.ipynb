{
 "cells": [
  {
   "cell_type": "code",
   "execution_count": 19,
   "metadata": {},
   "outputs": [],
   "source": [
    "import os \n",
    "os.chdir(r'D:\\HKU\\M1\\MSBA7001\\data_in')\n",
    "import numpy as np\n",
    "import pandas as pd"
   ]
  },
  {
   "cell_type": "code",
   "execution_count": 15,
   "metadata": {},
   "outputs": [],
   "source": [
    "#1\n",
    "import csv\n",
    "with open(r'./advertising.csv') as f:\n",
    "    reader = csv.reader(f)\n",
    "    header = next(reader)\n",
    "    data = [row for row in reader]\n",
    "# Calculate the sum of TV, radio, and newspaper for each row\n",
    "sums = [float(row[1]) + float(row[2]) + float(row[3]) for row in data]\n",
    "\n",
    "# Calculate the mean of sales\n",
    "sales = [float(row[4]) for row in data]\n",
    "mean_sales = np.mean(sales)\n",
    "\n",
    "# Create the new array with the specified columns\n",
    "new = np.array([[sums[i], 1 if sales[i] > mean_sales else 0] for i in range(len(data))])"
   ]
  },
  {
   "cell_type": "code",
   "execution_count": 17,
   "metadata": {},
   "outputs": [
    {
     "data": {
      "text/plain": [
       "array([[337.1,   1. ],\n",
       "       [128.9,   0. ],\n",
       "       [132.4,   0. ],\n",
       "       [251.3,   1. ],\n",
       "       [250. ,   0. ]])"
      ]
     },
     "execution_count": 17,
     "metadata": {},
     "output_type": "execute_result"
    }
   ],
   "source": [
    "new[:5]"
   ]
  },
  {
   "cell_type": "code",
   "execution_count": 20,
   "metadata": {},
   "outputs": [],
   "source": [
    "#2\n",
    "import csv\n",
    "with open(r'./hk_covid_stats.csv') as f:\n",
    "    reader = csv.reader(f)\n",
    "    header = next(reader)\n",
    "    data = [row for row in reader]\n",
    "    # Extract the new cases column and convert to float, handling missing values\n",
    "    new_cases = [float(row[2]) if row[2] else np.nan for row in data]\n",
    "\n",
    "    # Calculate the moving average with a window of 3 days\n",
    "    moving_avg = pd.Series(new_cases).rolling(window=3).mean()\n",
    "\n",
    "    # Replace NaN values with the mean of the moving average\n",
    "    moving_avg.fillna(moving_avg.mean(), inplace=True)\n",
    "\n",
    "    # Write the result to \"moving_ave.csv\"\n",
    "    moving_avg.to_csv('moving_ave.csv', index=False, header=['moving_avg'])"
   ]
  },
  {
   "cell_type": "code",
   "execution_count": 24,
   "metadata": {},
   "outputs": [
    {
     "data": {
      "text/plain": [
       "0    1658.010197\n",
       "1    1658.010197\n",
       "2       1.666667\n",
       "3       2.000000\n",
       "4       2.000000\n",
       "dtype: float64"
      ]
     },
     "execution_count": 24,
     "metadata": {},
     "output_type": "execute_result"
    }
   ],
   "source": [
    "moving_avg[:5]"
   ]
  },
  {
   "cell_type": "code",
   "execution_count": null,
   "metadata": {},
   "outputs": [],
   "source": [
    "#3\n"
   ]
  }
 ],
 "metadata": {
  "kernelspec": {
   "display_name": "Python 3",
   "language": "python",
   "name": "python3"
  },
  "language_info": {
   "codemirror_mode": {
    "name": "ipython",
    "version": 3
   },
   "file_extension": ".py",
   "mimetype": "text/x-python",
   "name": "python",
   "nbconvert_exporter": "python",
   "pygments_lexer": "ipython3",
   "version": "3.12.5"
  }
 },
 "nbformat": 4,
 "nbformat_minor": 2
}
