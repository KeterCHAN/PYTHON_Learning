{
 "cells": [
  {
   "cell_type": "markdown",
   "metadata": {},
   "source": [
    "nt, float, str  Integer, float, and string, respectively\n",
    "np.int64        Signed 64-bit integer types\n",
    "np.float32      Standard double-precision floating point\n",
    "np.complex      Complex numbers represented by 128 floats\n",
    "np.bool         Boolean type storing TRUE and FALSE values\n",
    "np.object       Python object type\n",
    "np.string_      Fixed-length string type"
   ]
  },
  {
   "cell_type": "markdown",
   "metadata": {},
   "source": [
    "arr.size        Returns number of elements in arr           arr2.size 6\n",
    "arr.shape       Returns dimensions of arr (rows,columns)    arr2.shape (2,4)\n",
    "arr.ndim        Returns the dimension of arr                arr2.ndim 2\n",
    "arr.dtype       Returns type of elements in arr             arr2.dtype int32\n",
    "np.info(arr)    View documentation for arr"
   ]
  },
  {
   "cell_type": "markdown",
   "metadata": {},
   "source": [
    "np.zeros(3)             1D array of length 3 all values 0\n",
    "np.ones((3,4))          3x4 array with all values 1\n",
    "np.eye(5)               5x5 array of 0 with 1 on diagonal (Identity matrix)\n",
    "np.empty((2,3,2))       2x3x2 array without initializing its values to any\n",
    "                        particular value\n",
    "np.full((2,3),8)        2x3 array with all values 8\n",
    "np.linspace(0,100,6)    Array of 6 evenly divided values from 0 to 100\n",
    "np.arange(0,10,3)       Array of values from 0 to less than 10 with step 3"
   ]
  },
  {
   "cell_type": "markdown",
   "metadata": {},
   "source": [
    "np.random.rand(4,5)                         4x5 array of random floats between0–1\n",
    "np.random.rand(6,7)*100                     6x7 array of random floats between0–100\n",
    "np.random.randint(5,size=(2,3))             2x3 array with random ints between0–4\n",
    "np.random.choice([3,5,7,9], size=(3,5))     3x5 array randomly drawn from the list\n",
    "np.random.randn(5, 3)                       5x3 array drawn from a standard normal distribution\n",
    "np.random.normal(mu, sigma, 10)             1x10 array drawn from a normal distribution"
   ]
  },
  {
   "cell_type": "markdown",
   "metadata": {},
   "source": [
    "np.copy(arr)                Copiesarrto new memory\n",
    "arr.view(dtype)             Creates view of arr elements with typed type\n",
    "np.append(arr,values)       Appends values to end ofarr\n",
    "np.insert(arr,2,values)     Inserts values into arr before index2\n",
    "np.delete(arr,3,axis=0)     Deletes row on index 3 of arr\n",
    "np.isnan(arr)               Checks for nan values and returns Boolean results.\n",
    "np.argwhere(arr)            Finds the indices of array elements that are non-zero\n",
    "arr.fill(value)             Fills the array with scalar values.\n",
    "arr.astype(np.int64)        Converts arr elements to typenp.int64\n",
    "arr.tolist()                Converts arr to a Python list"
   ]
  },
  {
   "cell_type": "markdown",
   "metadata": {},
   "source": [
    "np.add(arr1,arr2)           Elementwise addarr2toarr1\n",
    "np.subtract(arr1,arr2)      Elementwise subtract arr2fromarr1\n",
    "np.multiply(arr1,arr2)      Elementwise multiplyarr1byarr2\n",
    "np.divide(arr1,arr2)        Elementwise dividearr1byarr2\n",
    "np.power(arr1,arr2)         Elementwise raisearr1raised to the power ofarr2\n",
    "np.array_equal(arr1,arr2)   ReturnsTrueif the arrays have the same elements and shape\n",
    "np.sqrt(arr)                Square root of each element in the array\n",
    "np.sin(arr)                 Sine of each element in the array\n",
    "np.log(arr)                 Natural log of each element in the array\n",
    "np.abs(arr)                 Absolute value of each element in the array\n",
    "np.round(arr)               Rounds to the nearest int"
   ]
  },
  {
   "cell_type": "markdown",
   "metadata": {},
   "source": [
    "arr.mean(arr,axis=0)        Returns mean along specific axis\n",
    "arr.sum()                   Returns sum ofarr\n",
    "arr.min()                   Returns minimum value ofarr\n",
    "arr.max(axis=0)             Returns maximum value of specific axis\n",
    "np.var(arr)                 Returns the variance of array\n",
    "np.std(arr,axis=1)          Returns the standard deviation of specific axis\n",
    "np.corrcoef(arr1,arr2)      Returns correlation coefficient of arr1 and arr2"
   ]
  },
  {
   "cell_type": "markdown",
   "metadata": {},
   "source": [
    "arr.sort(axis=0)            Sorts specific axis ofarr\n",
    "arr.T or arr.transpose()    Transposesarr(rows become columns and vice versa)\n",
    "arr.reshape(3,4)            Reshapesarrto3rows,4columns without changing data\n",
    "arr.ravel()                 Flattens the array"
   ]
  },
  {
   "cell_type": "markdown",
   "metadata": {},
   "source": [
    "np.concatenate((arr1,arr2),axis=0)      Adds arr2 as rows to the end ofarr1\n",
    "np.concatenate((arr1,arr2),axis=1)      Adds arr2 as columns to end ofarr1\n",
    "np.vstack((arr1,arr2))                  Stacks arrays in sequence vertically\n",
    "np.hstack((arr1,arr2))                  Stacks arrays in sequence horizontally\n",
    "np.split(arr,3)                         Splits arr into3 sub-arrays\n",
    "np.hsplit(arr,5)                        Splits arr horizontally on the 5th index"
   ]
  },
  {
   "cell_type": "markdown",
   "metadata": {},
   "source": [
    "np.loadtxt()        Reads from a text file\n",
    "np.genfromtxt()     Reads from a CSV file\n",
    "np.savetxt()        Writes to a text or CSV file"
   ]
  },
  {
   "cell_type": "code",
   "execution_count": null,
   "metadata": {},
   "outputs": [],
   "source": []
  }
 ],
 "metadata": {
  "kernelspec": {
   "display_name": "base",
   "language": "python",
   "name": "python3"
  },
  "language_info": {
   "codemirror_mode": {
    "name": "ipython",
    "version": 3
   },
   "file_extension": ".py",
   "mimetype": "text/x-python",
   "name": "python",
   "nbconvert_exporter": "python",
   "pygments_lexer": "ipython3",
   "version": "3.12.4"
  }
 },
 "nbformat": 4,
 "nbformat_minor": 2
}
